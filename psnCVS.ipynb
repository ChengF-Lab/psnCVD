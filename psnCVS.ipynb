{
 "cells": [
  {
   "cell_type": "markdown",
   "metadata": {},
   "source": [
    "# Patient-patient similarity network-based risk assessment of CVD(psnCVD)"
   ]
  },
  {
   "cell_type": "markdown",
   "metadata": {},
   "source": [
    "---\n",
    "### Table of contents\n",
    "1. [Introduction](#intro)\n",
    "2. [psnCVD pipeline](#pip) \n",
    "       a. [Data Pre-processing](#a) \n",
    "       b. [Patient Network Construction & Visualization](#b) \n",
    "       c. [Validation using cardiac outcomes and survival analysis](#c) \n",
    "       d. [Clinical variable interpretation](#d)\n",
    "3. [References](#ref)\n"
   ]
  },
  {
   "cell_type": "markdown",
   "metadata": {},
   "source": [
    "---\n",
    "# <a name=\"intro\"></a> Introduction\n",
    "Recent advances in artificial intelligence and network science technologies offer valuable and increasingly useful network tools for deep phenotyping of patient heterogeneities as seen in patients who develop stroke, pulmonary vascular disease, as well as those seen in cardio-oncology. In this study, we develop a clinically actionable, network-based methodology (called patient-patient similarity network-based risk assessment of CVD or psnCVD) for unbiased cardiac risk stratification of cancer patients with cancer therapy-related cardiac dysfunction (CTRCD) using large-scale, longitudinal, heterogeneous patient data, including general demographics, Echo, laboratory testing, and cardiac factors. With the aid of psnCVD, patients of unknown status can be classified based on their similarity to patients with known status, offering precision medicine approaches to identify patients that are highly sensitive to CTRCD. Compared to traditional statistical risk models and ‘black box’ machine-learning methods, psnCVD excels at integrating heterogeneous patient data and generating interpretable mechanism models.\n",
    "\n",
    "\n",
    "\n",
    "#### Project Dependency\n",
    "```\n",
    "numpy\n",
    "pandas\n",
    "matplotlib\n",
    "seaborn\n",
    "sklearn\n",
    "lifelines\n",
    "networkx\n",
    "```\n",
    "\n",
    "\n",
    "\n",
    "#### Project Structure\n",
    "```\n",
    "/patient_network.ipynb          .... this notebook\n",
    "/data/                          .... input data folder\n",
    "     /data.txt                  .... de-identified all data of the patients\n",
    "     /label.txt                 .... CVD outcome\n",
    "     /patient.txt               .... de-identified id\n",
    "     /survival time.csv         .... patient survival information\n",
    "     /!feature-merged.txt       .... variable list at 15% cytoff\n",
    "/output/                        .... folder for output/intermediate result\n",
    "       /network.txt             .... generated patient network\n",
    "       /cluster.txt             .... patient cluster number\n",
    "       /variable_network_c*.txt .... variable network for each patient cluster\n",
    "```"
   ]
  },
  {
   "cell_type": "markdown",
   "metadata": {},
   "source": [
    "---\n",
    "# <a name=\"pip\"></a> psnCVD pipeline"
   ]
  },
  {
   "cell_type": "markdown",
   "metadata": {},
   "source": [
    "---\n",
    "## <a name=\"a\"></a> a Data Pre-processing"
   ]
  },
  {
   "cell_type": "code",
   "execution_count": 1,
   "metadata": {},
   "outputs": [],
   "source": [
    "# Load modules\n",
    "import os\n",
    "from IPython.display import display\n",
    "import numpy as np\n",
    "import pandas as pd\n",
    "import matplotlib.pyplot as plt\n",
    "import seaborn as sns"
   ]
  },
  {
   "cell_type": "markdown",
   "metadata": {},
   "source": [
    "### <a name=\"a2\"></a> Missing values are imputed:"
   ]
  },
  {
   "cell_type": "code",
   "execution_count": 2,
   "metadata": {},
   "outputs": [],
   "source": [
    "from sklearn.impute import SimpleImputer\n",
    "\n",
    "data = np.loadtxt(\"data/data.txt\")\n",
    "\n",
    "imp = SimpleImputer(missing_values=np.nan, strategy=\"mean\")\n",
    "imp.fit(data)\n",
    "data = imp.transform(data)"
   ]
  },
  {
   "cell_type": "markdown",
   "metadata": {},
   "source": [
    "### <a name=\"a2\"></a> Z-scaling"
   ]
  },
  {
   "cell_type": "code",
   "execution_count": 3,
   "metadata": {},
   "outputs": [],
   "source": [
    "from sklearn.preprocessing import StandardScaler\n",
    "\n",
    "scale = StandardScaler()\n",
    "scale.fit(data[:, 17:100])\n",
    "data[:, 17:100] = scale.transform(data[:, 17:100])\n",
    "np.save(\"data.npy\", data)"
   ]
  },
  {
   "cell_type": "markdown",
   "metadata": {},
   "source": [
    "### <a name=\"a2\"></a> Patient cosine similarity calculation\n",
    "For the construction of the patient-patient network, we computed the Cosine similarity for all pairs of patients. Other similarity metric, such as cosine similarity, was also tested and compared."
   ]
  },
  {
   "cell_type": "code",
   "execution_count": 4,
   "metadata": {},
   "outputs": [],
   "source": [
    "from sklearn.metrics.pairwise import cosine_similarity\n",
    "\n",
    "data_cos = cosine_similarity(data)\n",
    "np.save(\"data-cos.npy\", data_cos)"
   ]
  },
  {
   "cell_type": "code",
   "execution_count": 5,
   "metadata": {
    "scrolled": true
   },
   "outputs": [],
   "source": [
    "def Plot(data_set):\n",
    "    m_pcc = data_set\n",
    "    n = m_pcc.shape[0]\n",
    "    plt.figure()\n",
    "    plt.hist(m_pcc[np.triu_indices(n, k=1)], bins=100, log=True)\n",
    "    plt.savefig(\"cosine.png\")\n",
    "\n",
    "#Plot(data_cos)"
   ]
  },
  {
   "cell_type": "markdown",
   "metadata": {},
   "source": [
    "A cosine cutoff was used to determine if two patients should be connected. To identify the cutoff, we computed network densities at different cutoff values and selected the one yielding the lowest network density. Network density is defined as the ratio of the number of actual links to the number of all possible links among all the patients. The number of all possible links is calculated as n×(n-1)/2, where n is the number of patients in the network."
   ]
  },
  {
   "cell_type": "code",
   "execution_count": 6,
   "metadata": {},
   "outputs": [
    {
     "data": {
      "text/html": [
       "<div>\n",
       "<style scoped>\n",
       "    .dataframe tbody tr th:only-of-type {\n",
       "        vertical-align: middle;\n",
       "    }\n",
       "\n",
       "    .dataframe tbody tr th {\n",
       "        vertical-align: top;\n",
       "    }\n",
       "\n",
       "    .dataframe thead th {\n",
       "        text-align: right;\n",
       "    }\n",
       "</style>\n",
       "<table border=\"1\" class=\"dataframe\">\n",
       "  <thead>\n",
       "    <tr style=\"text-align: right;\">\n",
       "      <th></th>\n",
       "      <th>Cutoff</th>\n",
       "      <th>Number of Nodes</th>\n",
       "      <th>Number of Links</th>\n",
       "      <th>Density</th>\n",
       "    </tr>\n",
       "  </thead>\n",
       "  <tbody>\n",
       "    <tr>\n",
       "      <th>0</th>\n",
       "      <td>0.50</td>\n",
       "      <td>4611.0</td>\n",
       "      <td>114909.0</td>\n",
       "      <td>0.010812</td>\n",
       "    </tr>\n",
       "    <tr>\n",
       "      <th>1</th>\n",
       "      <td>0.55</td>\n",
       "      <td>4426.0</td>\n",
       "      <td>54362.0</td>\n",
       "      <td>0.005551</td>\n",
       "    </tr>\n",
       "    <tr>\n",
       "      <th>2</th>\n",
       "      <td>0.60</td>\n",
       "      <td>3800.0</td>\n",
       "      <td>23330.0</td>\n",
       "      <td>0.003232</td>\n",
       "    </tr>\n",
       "    <tr>\n",
       "      <th>3</th>\n",
       "      <td>0.61</td>\n",
       "      <td>3612.0</td>\n",
       "      <td>19335.0</td>\n",
       "      <td>0.002965</td>\n",
       "    </tr>\n",
       "    <tr>\n",
       "      <th>4</th>\n",
       "      <td>0.62</td>\n",
       "      <td>3383.0</td>\n",
       "      <td>15850.0</td>\n",
       "      <td>0.002771</td>\n",
       "    </tr>\n",
       "    <tr>\n",
       "      <th>5</th>\n",
       "      <td>0.63</td>\n",
       "      <td>3152.0</td>\n",
       "      <td>13110.0</td>\n",
       "      <td>0.002640</td>\n",
       "    </tr>\n",
       "    <tr>\n",
       "      <th>6</th>\n",
       "      <td>0.64</td>\n",
       "      <td>2917.0</td>\n",
       "      <td>10707.0</td>\n",
       "      <td>0.002518</td>\n",
       "    </tr>\n",
       "    <tr>\n",
       "      <th>7</th>\n",
       "      <td>0.65</td>\n",
       "      <td>2669.0</td>\n",
       "      <td>8677.0</td>\n",
       "      <td>0.002437</td>\n",
       "    </tr>\n",
       "    <tr>\n",
       "      <th>8</th>\n",
       "      <td>0.66</td>\n",
       "      <td>2379.0</td>\n",
       "      <td>6976.0</td>\n",
       "      <td>0.002466</td>\n",
       "    </tr>\n",
       "    <tr>\n",
       "      <th>9</th>\n",
       "      <td>0.67</td>\n",
       "      <td>2096.0</td>\n",
       "      <td>5584.0</td>\n",
       "      <td>0.002543</td>\n",
       "    </tr>\n",
       "    <tr>\n",
       "      <th>10</th>\n",
       "      <td>0.70</td>\n",
       "      <td>1480.0</td>\n",
       "      <td>2849.0</td>\n",
       "      <td>0.002603</td>\n",
       "    </tr>\n",
       "    <tr>\n",
       "      <th>11</th>\n",
       "      <td>0.75</td>\n",
       "      <td>587.0</td>\n",
       "      <td>785.0</td>\n",
       "      <td>0.004564</td>\n",
       "    </tr>\n",
       "    <tr>\n",
       "      <th>12</th>\n",
       "      <td>0.80</td>\n",
       "      <td>145.0</td>\n",
       "      <td>148.0</td>\n",
       "      <td>0.014176</td>\n",
       "    </tr>\n",
       "    <tr>\n",
       "      <th>13</th>\n",
       "      <td>0.85</td>\n",
       "      <td>46.0</td>\n",
       "      <td>31.0</td>\n",
       "      <td>0.029952</td>\n",
       "    </tr>\n",
       "    <tr>\n",
       "      <th>14</th>\n",
       "      <td>0.90</td>\n",
       "      <td>4.0</td>\n",
       "      <td>2.0</td>\n",
       "      <td>0.333333</td>\n",
       "    </tr>\n",
       "  </tbody>\n",
       "</table>\n",
       "</div>"
      ],
      "text/plain": [
       "    Cutoff  Number of Nodes  Number of Links   Density\n",
       "0     0.50           4611.0         114909.0  0.010812\n",
       "1     0.55           4426.0          54362.0  0.005551\n",
       "2     0.60           3800.0          23330.0  0.003232\n",
       "3     0.61           3612.0          19335.0  0.002965\n",
       "4     0.62           3383.0          15850.0  0.002771\n",
       "5     0.63           3152.0          13110.0  0.002640\n",
       "6     0.64           2917.0          10707.0  0.002518\n",
       "7     0.65           2669.0           8677.0  0.002437\n",
       "8     0.66           2379.0           6976.0  0.002466\n",
       "9     0.67           2096.0           5584.0  0.002543\n",
       "10    0.70           1480.0           2849.0  0.002603\n",
       "11    0.75            587.0            785.0  0.004564\n",
       "12    0.80            145.0            148.0  0.014176\n",
       "13    0.85             46.0             31.0  0.029952\n",
       "14    0.90              4.0              2.0  0.333333"
      ]
     },
     "execution_count": 6,
     "metadata": {},
     "output_type": "execute_result"
    }
   ],
   "source": [
    "def View(fn):\n",
    "    cutoffs = (0.5, 0.55, 0.6, 0.61, 0.62, 0.63, 0.64, 0.65, 0.66, 0.67, 0.7, 0.75, 0.8, 0.85, 0.9)\n",
    "    m_cos = data_cos\n",
    "    for i in range(len(m_cos)):\n",
    "        m_cos[i, i] = 0\n",
    "    n = m_cos.shape[0]\n",
    "    plot_node = []\n",
    "    plot_link = []\n",
    "    plot_dens = []\n",
    "    for cutoff in cutoffs:\n",
    "        # connected = abs(m_cos) > cutoff\n",
    "        connected = m_cos > cutoff\n",
    "        nodes = len(set(connected.nonzero()[0]))\n",
    "        links = len(connected.nonzero()[0]) / 2\n",
    "        density = 2 * links / nodes / (nodes - 1)\n",
    "        #print(cutoff, nodes, links, density)\n",
    "        plot_node.append(nodes)\n",
    "        plot_link.append(links)\n",
    "        plot_dens.append(density)\n",
    "    return pd.DataFrame(np.array([cutoffs,plot_node,plot_link,plot_dens]).T,\n",
    "                        columns=(\"Cutoff\",\"Number of Nodes\",\"Number of Links\",\"Density\"))\n",
    "\n",
    "net_property = View(\"data\")\n",
    "net_property"
   ]
  },
  {
   "cell_type": "markdown",
   "metadata": {},
   "source": [
    "Using this method, a cutoff of 0.62 was chosen, which resulted in a density of 0.24%. All patient pairs with |Cosine|>0.62 were then considered connected in the network. The final network contains 3,131 patients and 15,698 connections among them."
   ]
  },
  {
   "cell_type": "code",
   "execution_count": 7,
   "metadata": {},
   "outputs": [],
   "source": [
    "PATIENT = []\n",
    "with open(\"data/patient.txt\") as fi:\n",
    "    for line in fi:\n",
    "        PATIENT.append(line.strip())\n",
    "\n",
    "N = len(PATIENT)\n",
    "\n",
    "\n",
    "def Generate(fn, t_cos):\n",
    "    m_cos = data_cos\n",
    "    # count = [0, 0]\n",
    "    with open(\"net-%s-%s.txt\" % (fn, t_cos), \"w\") as fo:\n",
    "        fo.write(\"patient1\\tpatient2\\n\")\n",
    "        for p1 in range(N):\n",
    "            for p2 in range(p1 + 1, N):\n",
    "                if m_cos[p1, p2] > t_cos:\n",
    "                    if PATIENT[p1] and PATIENT[p2]:\n",
    "                        fo.write(\"%s\\t%s\\n\" % (PATIENT[p1], PATIENT[p2]))\n",
    "Generate(\"data\", 0.62)"
   ]
  },
  {
   "cell_type": "markdown",
   "metadata": {},
   "source": [
    "## <a name=\"pip_b\"></a> b Patient Network Construction & Visualization"
   ]
  },
  {
   "cell_type": "markdown",
   "metadata": {},
   "source": [
    "### <a name=\"a3\"></a> Patient clustering"
   ]
  },
  {
   "cell_type": "markdown",
   "metadata": {},
   "source": [
    "To identify patient subgroups, we clustered the patients using their network profiles by K-means analysis."
   ]
  },
  {
   "cell_type": "code",
   "execution_count": 8,
   "metadata": {},
   "outputs": [],
   "source": [
    "import random\n",
    "from sklearn.cluster import KMeans\n",
    "\n",
    "random.seed(2048)\n",
    "\n",
    "with open(\"data/patient.txt\") as fi:\n",
    "    patients = [line.strip(\"\\n\") for line in fi]\n",
    "\n",
    "\n",
    "def do(name, path, nc):\n",
    "    X = np.load(path)\n",
    "    idx = np.arange(X.shape[0])\n",
    "    y = KMeans(n_clusters=nc, random_state=20, n_jobs=1).fit_predict(X)\n",
    "    with open(\"kmeans-%s.txt\" % name, \"w\") as fo:\n",
    "        fo.write(\"id\\tcluster\\n\")\n",
    "        for i, r in zip(idx, y):\n",
    "            fo.write(\"%s\\t%s\\n\" % (patients[i], r))\n",
    "            \n",
    "do(\"data-cos4\", 'data-cos.npy', 4)"
   ]
  },
  {
   "cell_type": "markdown",
   "metadata": {},
   "source": [
    "Save the clusting results: kmeans-data-cos4.txt"
   ]
  },
  {
   "cell_type": "markdown",
   "metadata": {},
   "source": [
    "## <a name=\"pip_c\"></a>c. Validation using cardiac outcomes and survival analysis\n",
    "\n",
    "We then explored whether there are differences among the subgroups in terms of survival and de novo CTRCD risk. **We found that these four patient subgroups have distinct survival rates and de novo CTRCD risks.**\n",
    "\n",
    "Load survival and cluster data:"
   ]
  },
  {
   "cell_type": "code",
   "execution_count": 9,
   "metadata": {},
   "outputs": [],
   "source": [
    "# Death status: 0 alive; 1 death. Time means the years from the cancer initiation.\n",
    "df_cluster = pd.read_csv(\"kmeans-data-cos4.txt\", sep=\"\\t\")\n",
    "Survival_status = pd.read_csv(\"data/survival time.csv\")\n",
    "survival_dataframe = pd.merge(df_cluster, Survival_status, how=\"outer\", on=\"id\")"
   ]
  },
  {
   "cell_type": "markdown",
   "metadata": {},
   "source": [
    "Perform survival/risk analysis:"
   ]
  },
  {
   "cell_type": "code",
   "execution_count": 10,
   "metadata": {},
   "outputs": [
    {
     "data": {
      "image/png": "[encoded data removed]",
      "text/plain": [
       "<Figure size 1080x360 with 2 Axes>"
      ]
     },
     "metadata": {
      "needs_background": "light"
     },
     "output_type": "display_data"
    }
   ],
   "source": [
    "from lifelines import KaplanMeierFitter\n",
    "from lifelines import NelsonAalenFitter\n",
    "#survival analysis\n",
    "df_su = survival_dataframe.sort_values(by=[\"cluster\"]).dropna(subset=['survival_time'])\n",
    "kmf = KaplanMeierFitter()\n",
    "T = df_su[\"survival_time\"]\n",
    "E = df_su[\"Death_status\"]\n",
    "plt.figure(figsize=(15,5))\n",
    "ax = plt.subplot(121)\n",
    "for value, color in zip(df_su[\"cluster\"].unique(), [\"#efb55f\",'#6aa5e1','#5fbf77','#e58fd1']):\n",
    "    dem = df_su[\"cluster\"] == value\n",
    "    kmf.fit(T[dem], event_observed=E[dem], label=\"cluster %s\" % value)\n",
    "    kmf.plot(ax=ax,c=color)\n",
    "plt.ylim(0, 1)\n",
    "plt.title(\"Survival for different subgroup\",fontsize=16)\n",
    "plt.ylabel(\"Survival Probability\", fontsize=16)\n",
    "plt.xlabel(\"Years since cancer initiation\",fontsize=16)\n",
    "#Cumulative hazard\n",
    "df_cardio = survival_dataframe.sort_values(by=[\"cluster\"]).dropna(subset=['CTRCD'])\n",
    "naf = NelsonAalenFitter()\n",
    "T = df_cardio[\"denovo_CTRCD_time\"]\n",
    "E = df_cardio[\"CTRCD\"]\n",
    "ax = plt.subplot(122)\n",
    "for value, color in zip(df_cardio[\"cluster\"].unique(), [\"#efb55f\",'#6aa5e1','#5fbf77','#e58fd1']):\n",
    "    dem = df_cardio[\"cluster\"] == value\n",
    "    naf.fit(T[dem], event_observed=E[dem], label=\"cluster %s \" % value)\n",
    "    naf.plot(ax=ax,c=color)\n",
    "#plt.ylim(0, 1.5)\n",
    "plt.title(\"Cumulative hazard of CTRCD\",fontsize=16)\n",
    "plt.ylabel(\"Cumulative hazard of de novo CTRCD\", fontsize=14)\n",
    "plt.xlabel(\"Years since cancer therapy initiation\",fontsize=16);"
   ]
  },
  {
   "cell_type": "markdown",
   "metadata": {},
   "source": [
    "The significances of the survial and the cumulative hazard are calculated as below:"
   ]
  },
  {
   "cell_type": "code",
   "execution_count": 11,
   "metadata": {},
   "outputs": [
    {
     "name": "stdout",
     "output_type": "stream",
     "text": [
      "Survival probability, p-value: 1.2393598193788615e-144\n",
      "Cumulative incidence of de novo CTRCD, p-value: 1.2311076279405487e-32\n"
     ]
    }
   ],
   "source": [
    "# p value by logrank_test\n",
    "from lifelines.statistics import multivariate_logrank_test\n",
    "result_su = multivariate_logrank_test(df_su['survival_time'], df_su['cluster'], df_su['Death_status'])\n",
    "result_su.test_statistic\n",
    "print(\"Survival probability, p-value:\",result_su.p_value)\n",
    "result_cardio = multivariate_logrank_test(df_su['denovo_CTRCD_time'], df_su['cluster'], df_su['CTRCD'])\n",
    "result_cardio.test_statistic\n",
    "print(\"Cumulative incidence of de novo CTRCD, p-value:\",result_cardio.p_value)"
   ]
  },
  {
   "cell_type": "markdown",
   "metadata": {},
   "source": [
    "## <a name=\"pip_d\"></a> d Clinical Variable Interpretation"
   ]
  },
  {
   "cell_type": "markdown",
   "metadata": {},
   "source": [
    "We adopted a top-K percent strategy that uses the K% connections with the highest PCC for the construction of the network. To determine which K to use, we test the following percentages: 5%, 10%, 15%, and 20%. For example, using top-5%, all variable pairs with |PCC| greater than the absolute PCC at the top 5% were connected. Too few clinical variables were still present in the network when 5% and 10% was used. When 20% were used, we fund an increasing number of correlations with less significantly p-value (p > 0.05). Therefore, 15% was used for the final clinical variable network analysis."
   ]
  },
  {
   "cell_type": "markdown",
   "metadata": {},
   "source": [
    "### PCC caculation"
   ]
  },
  {
   "cell_type": "code",
   "execution_count": 12,
   "metadata": {},
   "outputs": [
    {
     "name": "stdout",
     "output_type": "stream",
     "text": [
      "c0\n",
      "c1\n",
      "c2\n",
      "c3\n"
     ]
    }
   ],
   "source": [
    "from scipy.stats import pearsonr\n",
    "from statsmodels.stats.multitest import multipletests\n",
    "\n",
    "data = np.load(\"data.npy\")\n",
    "\n",
    "CLUSTER = []\n",
    "with open(\"kmeans-data-cos4.txt\") as fi:\n",
    "    next(fi)\n",
    "    for line in fi:\n",
    "        CLUSTER.append(int(line.strip(\"\\n\").split(\"\\t\")[1]))\n",
    "\n",
    "CLUSTER = np.array(CLUSTER)\n",
    "assert len(CLUSTER) == data.shape[0]\n",
    "\n",
    "\n",
    "def Generate(mat, fn):\n",
    "    print(fn)\n",
    "    n = mat.shape[0]\n",
    "    m_pcc = np.zeros((n, n))\n",
    "    m_pvalue = np.zeros((n, n))\n",
    "    for p1 in range(n):\n",
    "        for p2 in range(p1 + 1, n):\n",
    "            pcc, pvalue = pearsonr(mat[p1], mat[p2])\n",
    "            m_pcc[p1, p2] = m_pcc[p2, p1] = pcc\n",
    "            m_pvalue[p1, p2] = pvalue\n",
    "    m_pvalue[np.triu_indices(n, k=1)] = multipletests(m_pvalue[np.triu_indices(n, k=1)], method=\"bonferroni\")[1]\n",
    "    np.save(\"pcc-%s.npy\" % fn, m_pcc)\n",
    "    np.save(\"pvalue-%s.npy\" % fn, m_pvalue + m_pvalue.T)\n",
    "\n",
    "\n",
    "Generate(data[CLUSTER == 0].T, \"c0\")\n",
    "Generate(data[CLUSTER == 1].T, \"c1\")\n",
    "Generate(data[CLUSTER == 2].T, \"c2\")\n",
    "Generate(data[CLUSTER == 3].T, \"c3\")"
   ]
  },
  {
   "cell_type": "code",
   "execution_count": 13,
   "metadata": {},
   "outputs": [],
   "source": [
    "def Range(a, b):\n",
    "    return list(range(a, b + 1))\n",
    "\n",
    "\n",
    "TO_MERGE = [\n",
    "    Range(50, 54) + [100, 101],\n",
    "    Range(55, 59),\n",
    "    Range(60, 64) + [102, 103],\n",
    "    Range(65, 69) + [104, 105],\n",
    "    Range(70, 74) + [106, 107],\n",
    "    Range(75, 79),\n",
    "    Range(80, 84),\n",
    "    Range(85, 89),\n",
    "    Range(90, 94) + [108, 109],\n",
    "    Range(95, 99) + [110, 111],\n",
    "]\n",
    "\n",
    "\n",
    "def Merge(fn):\n",
    "    m_pcc = np.load(\"pcc-%s.npy\" % fn)\n",
    "    m_pvalue = np.load(\"pvalue-%s.npy\" % fn)\n",
    "    to_delete = sum(TO_MERGE, [])\n",
    "    to_keep = [i for i in range(m_pcc.shape[0]) if i not in to_delete]\n",
    "\n",
    "    temp = []\n",
    "    temp_pv = []\n",
    "    for x in TO_MERGE:\n",
    "        temp.append(m_pcc[x])\n",
    "        temp_pv.append(m_pvalue[x])\n",
    "    temp_pv2 = np.array([t2[abs(t).argmax(0), np.arange(len(to_keep) + len(to_delete))] for t, t2 in zip(temp, temp_pv)])\n",
    "    m_pvalue = np.vstack((m_pvalue[to_keep], temp_pv2)).T\n",
    "    temp2 = np.array([t[abs(t).argmax(0), np.arange(len(to_keep) + len(to_delete))] for t in temp])\n",
    "    m_pcc = np.vstack((m_pcc[to_keep], temp2)).T\n",
    "\n",
    "    temp = []\n",
    "    temp_pv = []\n",
    "    for x in TO_MERGE:\n",
    "        temp.append(m_pcc[x])\n",
    "        temp_pv.append(m_pvalue[x])\n",
    "    temp_pv2 = np.array([t2[abs(t).argmax(0), np.arange(len(to_keep) + len(TO_MERGE))] for t, t2 in zip(temp, temp_pv)])\n",
    "    m_pvalue = np.vstack((m_pvalue[to_keep], temp_pv2))\n",
    "    temp2 = np.array([t[abs(t).argmax(0), np.arange(len(to_keep) + len(TO_MERGE))] for t in temp])\n",
    "    m_pcc = np.vstack((m_pcc[to_keep], temp2))\n",
    "\n",
    "    for i in range(m_pcc.shape[0]):\n",
    "        m_pcc[i, i] = 0\n",
    "        m_pvalue[i, i] = 1\n",
    "\n",
    "    m_pcc = m_pcc[17:, 17:]\n",
    "    m_pvalue = m_pvalue[17:, 17:]\n",
    "\n",
    "    np.save(\"merged-pcc-%s\" % fn, m_pcc)\n",
    "    np.save(\"merged-pvalue-%s\" % fn, m_pvalue)\n",
    "    np.save(\"merged-pvalue-all-%s\" % fn, m_pvalue[np.triu_indices(m_pvalue.shape[0], k=1)])\n",
    "\n",
    "\n",
    "Merge(\"c0\")\n",
    "Merge(\"c1\")\n",
    "Merge(\"c2\")\n",
    "Merge(\"c3\")"
   ]
  },
  {
   "cell_type": "markdown",
   "metadata": {},
   "source": [
    "### PCC cutoff - top-K percent strategy"
   ]
  },
  {
   "cell_type": "code",
   "execution_count": 14,
   "metadata": {},
   "outputs": [
    {
     "name": "stdout",
     "output_type": "stream",
     "text": [
      "0.35913419126783075 1.6854323675330396e-17\n",
      "0.3035658502050491 1.6565466384668552e-24\n",
      "0.22787704332788694 4.9038077961165344e-20\n",
      "0.3320181029075215 1.6772449339211617e-22\n",
      "\n",
      "0.2454242288498892 2.8848550700906253e-06\n",
      "0.21589444971271216 3.739944850535703e-11\n",
      "0.1638733011520935 4.4809659822839226e-09\n",
      "0.2053431937990049 9.247278289828377e-07\n",
      "\n",
      "0.20754367104836535 0.0007974283564370026\n",
      "0.17743695334626033 1.5511821506549768e-06\n",
      "0.1385261391052093 2.0110737583395028e-05\n",
      "0.15577046048317275 0.008197838141787242\n",
      "\n",
      "0.1842165073198475 0.021601451994486535\n",
      "0.14873378022829267 0.000613716936013505\n",
      "0.11545693583404243 0.0051593467380543715\n",
      "0.1307419330562271 0.33550353869027055\n"
     ]
    }
   ],
   "source": [
    "N = 43\n",
    "def Cutoff(fn, ratio):\n",
    "    m_pcc = np.load(\"merged-pcc-%s.npy\" % fn)\n",
    "    m_pvalue = np.load(\"merged-pvalue-%s.npy\" % fn)\n",
    "    pccs = sorted(abs(m_pcc[np.triu_indices(N, k=1)]))\n",
    "    cutoff = pccs[int(len(pccs) * (1 - ratio))]\n",
    "    pvs = []\n",
    "    for p1 in range(N):\n",
    "        for p2 in range(p1 + 1, N):\n",
    "            if abs(m_pcc[p1, p2]) > cutoff:\n",
    "                pvs.append(m_pvalue[p1, p2])\n",
    "    print(cutoff, max(pvs))\n",
    "    \n",
    "Cutoff(\"c0\", 0.05)\n",
    "Cutoff(\"c1\", 0.05)\n",
    "Cutoff(\"c2\", 0.05)\n",
    "Cutoff(\"c3\", 0.05)\n",
    "print()\n",
    "\n",
    "Cutoff(\"c0\", 0.10)\n",
    "Cutoff(\"c1\", 0.10)\n",
    "Cutoff(\"c2\", 0.10)\n",
    "Cutoff(\"c3\", 0.10)\n",
    "print()\n",
    "\n",
    "Cutoff(\"c0\", 0.15)\n",
    "Cutoff(\"c1\", 0.15)\n",
    "Cutoff(\"c2\", 0.15)\n",
    "Cutoff(\"c3\", 0.15)\n",
    "print()\n",
    "\n",
    "Cutoff(\"c0\", 0.20)\n",
    "Cutoff(\"c1\", 0.20)\n",
    "Cutoff(\"c2\", 0.20)\n",
    "Cutoff(\"c3\", 0.20)"
   ]
  },
  {
   "cell_type": "markdown",
   "metadata": {},
   "source": [
    "### Clinical variable network generation"
   ]
  },
  {
   "cell_type": "code",
   "execution_count": 15,
   "metadata": {},
   "outputs": [],
   "source": [
    "N = 43\n",
    "FEATURES = open(\"data/!feature-merged.txt\").read().splitlines()\n",
    "assert len(FEATURES) == N\n",
    "\n",
    "\n",
    "def Generate(fn, ratio):\n",
    "    m_pcc = np.load(\"merged-pcc-%s.npy\" % fn)\n",
    "    pccs = sorted(abs(m_pcc[np.triu_indices(N, k=1)]))\n",
    "    cutoff = pccs[int(len(pccs) * (1 - ratio))]\n",
    "\n",
    "    with open(\"net-top%.2f-%s.txt\" % (ratio, fn), \"w\") as fo:\n",
    "        #fo.write(\"source\\ttarget\\tabspcc\\n\")\n",
    "        for p1 in range(N):\n",
    "            for p2 in range(p1 + 1, N):\n",
    "                if abs(m_pcc[p1, p2]) > cutoff:\n",
    "                    fo.write(\"%s\\t%s\\t%.3f\\n\" % (FEATURES[p1], FEATURES[p2], abs(m_pcc[p1, p2])))\n",
    "\n",
    "\n",
    "Generate(\"c0\", 0.15)\n",
    "Generate(\"c1\", 0.15)\n",
    "Generate(\"c2\", 0.15)\n",
    "Generate(\"c3\", 0.15)"
   ]
  },
  {
   "cell_type": "markdown",
   "metadata": {},
   "source": [
    "###  Variable Network Exploration"
   ]
  },
  {
   "cell_type": "markdown",
   "metadata": {},
   "source": [
    "We utilized the NetworkX package based on Python 3.7 platform to study the properties of the clinical variable networks, and used two approaches (degree and betweenness centrality) for evaluation. "
   ]
  },
  {
   "cell_type": "code",
   "execution_count": 16,
   "metadata": {},
   "outputs": [],
   "source": [
    "import re\n",
    "import networkx as nx \n",
    "\n",
    "# Degree\n",
    "listname= [\"net-top0.15-c0.txt\",\"net-top0.15-c1.txt\",\"net-top0.15-c2.txt\",\"net-top0.15-c3.txt\"]\n",
    "v_degree = pd.DataFrame(columns=[\"id\"])\n",
    "for i in listname:\n",
    "    cluster = re.search(r'.+(c[0-3]).+', i).group(1)\n",
    "    node_name=[]\n",
    "    node_degree =[]\n",
    "    df = pd.read_csv(i,sep=\"\\t\")\n",
    "    df.columns = ['source', 'target',\"pcc\"]\n",
    "    G = nx.from_pandas_edgelist(df, 'source', 'target')\n",
    "    for j in G.degree():\n",
    "        node_name.append(j[0])\n",
    "        node_degree.append(j[1])\n",
    "    sheet = {'id':node_name,'variable_degree':node_degree}\n",
    "    df = pd.DataFrame.from_dict(sheet)\n",
    "    df.rename(columns={\"variable_degree\":str(cluster)},inplace = True)\n",
    "    v_degree = pd.merge(v_degree, df,how = \"outer\",on =[\"id\"])"
   ]
  },
  {
   "cell_type": "code",
   "execution_count": 17,
   "metadata": {},
   "outputs": [],
   "source": [
    "#betweenness_centrality\n",
    "v_centrality = pd.DataFrame(columns=[\"id\"])\n",
    "for i in listname:\n",
    "    cluster = re.search(r'.+(c[0-3]).+', i).group(1)\n",
    "    node_name=[]\n",
    "    betweenness_centrality =[]\n",
    "    df = pd.read_csv(i,sep=\"\\t\")\n",
    "    df.columns = ['source', 'target',\"pcc\"]\n",
    "    G = nx.from_pandas_edgelist(df, 'source', 'target')\n",
    "    for j in nx.betweenness_centrality(G).items():\n",
    "        node_name.append(j[0])\n",
    "        betweenness_centrality.append(j[1])\n",
    "    sheet = {'id':node_name,'v_centrality':betweenness_centrality}\n",
    "    df = pd.DataFrame.from_dict(sheet)\n",
    "    df.rename(columns={\"v_centrality\":str(cluster)},inplace = True)\n",
    "    v_centrality = pd.merge(v_centrality, df,how = \"outer\",on =[\"id\"])\n"
   ]
  },
  {
   "cell_type": "markdown",
   "metadata": {},
   "source": [
    "---\n",
    "# <a name=\"ref\"></a> References\n",
    "\n",
    "* Cheng F (2019) Methods in Molecular Biology. 30:75-97.\n",
    "* Huang Y, Fang J,…, Cheng F (2019) Cell Chemical Biology. 28:1-16.\n",
    "* Cheng F, Lu W, …, Loscalzo J (2019) Nature Communications. in press. \n",
    "* Cheng F, Kovacs I, Barabasi AL (2019) Nature Communications. 10:1197.\n",
    "* Cheng F, Desai JR, …, Loscalzo J (2018) Nature Communications. 9:2691.\n",
    "* Cheng F, Loscalzo J (2018) Trends in Molecular Medicine. 24(3):239-241.\n",
    "* Cheng F, Loscalzo J (2017) Trends in Immunology. 38(2):77-78."
   ]
  }
 ],
 "metadata": {
  "kernelspec": {
   "display_name": "Python 3",
   "language": "python",
   "name": "python3"
  },
  "language_info": {
   "codemirror_mode": {
    "name": "ipython",
    "version": 3
   },
   "file_extension": ".py",
   "mimetype": "text/x-python",
   "name": "python",
   "nbconvert_exporter": "python",
   "pygments_lexer": "ipython3",
   "version": "3.6.8"
  }
 },
 "nbformat": 4,
 "nbformat_minor": 2
}
